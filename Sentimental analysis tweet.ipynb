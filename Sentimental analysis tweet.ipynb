{
 "cells": [
  {
   "cell_type": "code",
   "execution_count": 1,
   "id": "af44b746",
   "metadata": {},
   "outputs": [
    {
     "data": {
      "text/html": [
       "<div>\n",
       "<style scoped>\n",
       "    .dataframe tbody tr th:only-of-type {\n",
       "        vertical-align: middle;\n",
       "    }\n",
       "\n",
       "    .dataframe tbody tr th {\n",
       "        vertical-align: top;\n",
       "    }\n",
       "\n",
       "    .dataframe thead th {\n",
       "        text-align: right;\n",
       "    }\n",
       "</style>\n",
       "<table border=\"1\" class=\"dataframe\">\n",
       "  <thead>\n",
       "    <tr style=\"text-align: right;\">\n",
       "      <th></th>\n",
       "      <th>2401</th>\n",
       "      <th>Borderlands</th>\n",
       "      <th>Positive</th>\n",
       "      <th>im getting on borderlands and i will murder you all ,</th>\n",
       "    </tr>\n",
       "  </thead>\n",
       "  <tbody>\n",
       "    <tr>\n",
       "      <th>0</th>\n",
       "      <td>2401</td>\n",
       "      <td>Borderlands</td>\n",
       "      <td>Positive</td>\n",
       "      <td>I am coming to the borders and I will kill you...</td>\n",
       "    </tr>\n",
       "    <tr>\n",
       "      <th>1</th>\n",
       "      <td>2401</td>\n",
       "      <td>Borderlands</td>\n",
       "      <td>Positive</td>\n",
       "      <td>im getting on borderlands and i will kill you ...</td>\n",
       "    </tr>\n",
       "    <tr>\n",
       "      <th>2</th>\n",
       "      <td>2401</td>\n",
       "      <td>Borderlands</td>\n",
       "      <td>Positive</td>\n",
       "      <td>im coming on borderlands and i will murder you...</td>\n",
       "    </tr>\n",
       "    <tr>\n",
       "      <th>3</th>\n",
       "      <td>2401</td>\n",
       "      <td>Borderlands</td>\n",
       "      <td>Positive</td>\n",
       "      <td>im getting on borderlands 2 and i will murder ...</td>\n",
       "    </tr>\n",
       "    <tr>\n",
       "      <th>4</th>\n",
       "      <td>2401</td>\n",
       "      <td>Borderlands</td>\n",
       "      <td>Positive</td>\n",
       "      <td>im getting into borderlands and i can murder y...</td>\n",
       "    </tr>\n",
       "    <tr>\n",
       "      <th>...</th>\n",
       "      <td>...</td>\n",
       "      <td>...</td>\n",
       "      <td>...</td>\n",
       "      <td>...</td>\n",
       "    </tr>\n",
       "    <tr>\n",
       "      <th>95</th>\n",
       "      <td>2417</td>\n",
       "      <td>Borderlands</td>\n",
       "      <td>Negative</td>\n",
       "      <td>Grounded almost looked pretty cool even despit...</td>\n",
       "    </tr>\n",
       "    <tr>\n",
       "      <th>96</th>\n",
       "      <td>2417</td>\n",
       "      <td>Borderlands</td>\n",
       "      <td>Negative</td>\n",
       "      <td>Grounded looked cool despite the borderline un...</td>\n",
       "    </tr>\n",
       "    <tr>\n",
       "      <th>97</th>\n",
       "      <td>2417</td>\n",
       "      <td>Borderlands</td>\n",
       "      <td>Negative</td>\n",
       "      <td>Grosskreutz looked pretty cool, even despite t...</td>\n",
       "    </tr>\n",
       "    <tr>\n",
       "      <th>98</th>\n",
       "      <td>2417</td>\n",
       "      <td>Borderlands</td>\n",
       "      <td>Negative</td>\n",
       "      <td>Grounded almost looked pretty cool here despit...</td>\n",
       "    </tr>\n",
       "    <tr>\n",
       "      <th>99</th>\n",
       "      <td>2417</td>\n",
       "      <td>Borderlands</td>\n",
       "      <td>Negative</td>\n",
       "      <td>Deep Grounded almost looked pretty cool even d...</td>\n",
       "    </tr>\n",
       "  </tbody>\n",
       "</table>\n",
       "<p>100 rows × 4 columns</p>\n",
       "</div>"
      ],
      "text/plain": [
       "    2401  Borderlands  Positive  \\\n",
       "0   2401  Borderlands  Positive   \n",
       "1   2401  Borderlands  Positive   \n",
       "2   2401  Borderlands  Positive   \n",
       "3   2401  Borderlands  Positive   \n",
       "4   2401  Borderlands  Positive   \n",
       "..   ...          ...       ...   \n",
       "95  2417  Borderlands  Negative   \n",
       "96  2417  Borderlands  Negative   \n",
       "97  2417  Borderlands  Negative   \n",
       "98  2417  Borderlands  Negative   \n",
       "99  2417  Borderlands  Negative   \n",
       "\n",
       "   im getting on borderlands and i will murder you all ,  \n",
       "0   I am coming to the borders and I will kill you...     \n",
       "1   im getting on borderlands and i will kill you ...     \n",
       "2   im coming on borderlands and i will murder you...     \n",
       "3   im getting on borderlands 2 and i will murder ...     \n",
       "4   im getting into borderlands and i can murder y...     \n",
       "..                                                ...     \n",
       "95  Grounded almost looked pretty cool even despit...     \n",
       "96  Grounded looked cool despite the borderline un...     \n",
       "97  Grosskreutz looked pretty cool, even despite t...     \n",
       "98  Grounded almost looked pretty cool here despit...     \n",
       "99  Deep Grounded almost looked pretty cool even d...     \n",
       "\n",
       "[100 rows x 4 columns]"
      ]
     },
     "execution_count": 1,
     "metadata": {},
     "output_type": "execute_result"
    }
   ],
   "source": [
    "import numpy as np\n",
    "import pandas as pd\n",
    "df = pd.read_csv('twitter_training.csv').astype(str)\n",
    "df_test = pd.read_csv('twitter_validation.csv').astype(str)\n",
    "df.head(100)"
   ]
  },
  {
   "cell_type": "code",
   "execution_count": 2,
   "id": "bd3d8dbe",
   "metadata": {},
   "outputs": [
    {
     "data": {
      "text/html": [
       "<div>\n",
       "<style scoped>\n",
       "    .dataframe tbody tr th:only-of-type {\n",
       "        vertical-align: middle;\n",
       "    }\n",
       "\n",
       "    .dataframe tbody tr th {\n",
       "        vertical-align: top;\n",
       "    }\n",
       "\n",
       "    .dataframe thead th {\n",
       "        text-align: right;\n",
       "    }\n",
       "</style>\n",
       "<table border=\"1\" class=\"dataframe\">\n",
       "  <thead>\n",
       "    <tr style=\"text-align: right;\">\n",
       "      <th></th>\n",
       "      <th>3364</th>\n",
       "      <th>Facebook</th>\n",
       "      <th>Irrelevant</th>\n",
       "      <th>I mentioned on Facebook that I was struggling for motivation to go for a run the other day, which has been translated by Tom’s great auntie as ‘Hayley can’t get out of bed’ and told to his grandma, who now thinks I’m a lazy, terrible person 🤣</th>\n",
       "    </tr>\n",
       "  </thead>\n",
       "  <tbody>\n",
       "    <tr>\n",
       "      <th>0</th>\n",
       "      <td>352</td>\n",
       "      <td>Amazon</td>\n",
       "      <td>Neutral</td>\n",
       "      <td>BBC News - Amazon boss Jeff Bezos rejects clai...</td>\n",
       "    </tr>\n",
       "    <tr>\n",
       "      <th>1</th>\n",
       "      <td>8312</td>\n",
       "      <td>Microsoft</td>\n",
       "      <td>Negative</td>\n",
       "      <td>@Microsoft Why do I pay for WORD when it funct...</td>\n",
       "    </tr>\n",
       "    <tr>\n",
       "      <th>2</th>\n",
       "      <td>4371</td>\n",
       "      <td>CS-GO</td>\n",
       "      <td>Negative</td>\n",
       "      <td>CSGO matchmaking is so full of closet hacking,...</td>\n",
       "    </tr>\n",
       "    <tr>\n",
       "      <th>3</th>\n",
       "      <td>4433</td>\n",
       "      <td>Google</td>\n",
       "      <td>Neutral</td>\n",
       "      <td>Now the President is slapping Americans in the...</td>\n",
       "    </tr>\n",
       "    <tr>\n",
       "      <th>4</th>\n",
       "      <td>6273</td>\n",
       "      <td>FIFA</td>\n",
       "      <td>Negative</td>\n",
       "      <td>Hi @EAHelp I’ve had Madeleine McCann in my cel...</td>\n",
       "    </tr>\n",
       "  </tbody>\n",
       "</table>\n",
       "</div>"
      ],
      "text/plain": [
       "   3364   Facebook Irrelevant  \\\n",
       "0   352     Amazon    Neutral   \n",
       "1  8312  Microsoft   Negative   \n",
       "2  4371      CS-GO   Negative   \n",
       "3  4433     Google    Neutral   \n",
       "4  6273       FIFA   Negative   \n",
       "\n",
       "  I mentioned on Facebook that I was struggling for motivation to go for a run the other day, which has been translated by Tom’s great auntie as ‘Hayley can’t get out of bed’ and told to his grandma, who now thinks I’m a lazy, terrible person 🤣  \n",
       "0  BBC News - Amazon boss Jeff Bezos rejects clai...                                                                                                                                                                                                  \n",
       "1  @Microsoft Why do I pay for WORD when it funct...                                                                                                                                                                                                  \n",
       "2  CSGO matchmaking is so full of closet hacking,...                                                                                                                                                                                                  \n",
       "3  Now the President is slapping Americans in the...                                                                                                                                                                                                  \n",
       "4  Hi @EAHelp I’ve had Madeleine McCann in my cel...                                                                                                                                                                                                  "
      ]
     },
     "execution_count": 2,
     "metadata": {},
     "output_type": "execute_result"
    }
   ],
   "source": [
    "df_test.head()"
   ]
  },
  {
   "cell_type": "code",
   "execution_count": 3,
   "id": "2a384a47",
   "metadata": {},
   "outputs": [
    {
     "data": {
      "text/plain": [
       "(74681, 4)"
      ]
     },
     "execution_count": 3,
     "metadata": {},
     "output_type": "execute_result"
    }
   ],
   "source": [
    "df.shape"
   ]
  },
  {
   "cell_type": "code",
   "execution_count": 4,
   "id": "26267194",
   "metadata": {},
   "outputs": [
    {
     "data": {
      "text/plain": [
       "(999, 4)"
      ]
     },
     "execution_count": 4,
     "metadata": {},
     "output_type": "execute_result"
    }
   ],
   "source": [
    "df_test.shape"
   ]
  },
  {
   "cell_type": "code",
   "execution_count": 5,
   "id": "34c11837",
   "metadata": {},
   "outputs": [],
   "source": [
    "# Data Cleaning\n",
    "\n",
    "df_test = df_test.rename(columns={\"I mentioned on Facebook that I was struggling for motivation to go for a run the other day, which has been translated by Tom’s great auntie as ‘Hayley can’t get out of bed’ and told to his grandma, who now thinks I’m a lazy, terrible person 🤣\": \"Tweets\", \"Irrelevant\":\"Result\"})\n",
    "df = df.rename(columns={'Positive':'Result','im getting on borderlands and i will murder you all ,':'Tweets'})\n",
    "df_test = df_test.drop(columns=['3364', 'Facebook'])\n",
    "df = df.drop(columns=['2401','Borderlands'])"
   ]
  },
  {
   "cell_type": "code",
   "execution_count": 6,
   "id": "82b6603a",
   "metadata": {},
   "outputs": [
    {
     "data": {
      "text/html": [
       "<div>\n",
       "<style scoped>\n",
       "    .dataframe tbody tr th:only-of-type {\n",
       "        vertical-align: middle;\n",
       "    }\n",
       "\n",
       "    .dataframe tbody tr th {\n",
       "        vertical-align: top;\n",
       "    }\n",
       "\n",
       "    .dataframe thead th {\n",
       "        text-align: right;\n",
       "    }\n",
       "</style>\n",
       "<table border=\"1\" class=\"dataframe\">\n",
       "  <thead>\n",
       "    <tr style=\"text-align: right;\">\n",
       "      <th></th>\n",
       "      <th>Result</th>\n",
       "      <th>Tweets</th>\n",
       "    </tr>\n",
       "  </thead>\n",
       "  <tbody>\n",
       "    <tr>\n",
       "      <th>689</th>\n",
       "      <td>Irrelevant</td>\n",
       "      <td>Ahh man, I have zero friends on\\nTwitter so I ...</td>\n",
       "    </tr>\n",
       "    <tr>\n",
       "      <th>64</th>\n",
       "      <td>Neutral</td>\n",
       "      <td>Johnson&amp;Johnson to stop selling baby powder in...</td>\n",
       "    </tr>\n",
       "    <tr>\n",
       "      <th>319</th>\n",
       "      <td>Positive</td>\n",
       "      <td>#WorldCupAtHome: Five African matches you woul...</td>\n",
       "    </tr>\n",
       "    <tr>\n",
       "      <th>68</th>\n",
       "      <td>Negative</td>\n",
       "      <td>@EAMaddenNFL hi I am am trying to do the golde...</td>\n",
       "    </tr>\n",
       "  </tbody>\n",
       "</table>\n",
       "</div>"
      ],
      "text/plain": [
       "         Result                                             Tweets\n",
       "689  Irrelevant  Ahh man, I have zero friends on\\nTwitter so I ...\n",
       "64      Neutral  Johnson&Johnson to stop selling baby powder in...\n",
       "319    Positive  #WorldCupAtHome: Five African matches you woul...\n",
       "68     Negative  @EAMaddenNFL hi I am am trying to do the golde..."
      ]
     },
     "execution_count": 6,
     "metadata": {},
     "output_type": "execute_result"
    }
   ],
   "source": [
    "df_test.sample(4)"
   ]
  },
  {
   "cell_type": "code",
   "execution_count": 7,
   "id": "6d4dfdb5",
   "metadata": {},
   "outputs": [
    {
     "data": {
      "text/html": [
       "<div>\n",
       "<style scoped>\n",
       "    .dataframe tbody tr th:only-of-type {\n",
       "        vertical-align: middle;\n",
       "    }\n",
       "\n",
       "    .dataframe tbody tr th {\n",
       "        vertical-align: top;\n",
       "    }\n",
       "\n",
       "    .dataframe thead th {\n",
       "        text-align: right;\n",
       "    }\n",
       "</style>\n",
       "<table border=\"1\" class=\"dataframe\">\n",
       "  <thead>\n",
       "    <tr style=\"text-align: right;\">\n",
       "      <th></th>\n",
       "      <th>Result</th>\n",
       "      <th>Tweets</th>\n",
       "    </tr>\n",
       "  </thead>\n",
       "  <tbody>\n",
       "    <tr>\n",
       "      <th>28740</th>\n",
       "      <td>Positive</td>\n",
       "      <td>@ PlayApex Guys... I just want to say that thi...</td>\n",
       "    </tr>\n",
       "    <tr>\n",
       "      <th>37487</th>\n",
       "      <td>Neutral</td>\n",
       "      <td>Successfully streamed today!!. Thanks to @Ridi...</td>\n",
       "    </tr>\n",
       "    <tr>\n",
       "      <th>43747</th>\n",
       "      <td>Negative</td>\n",
       "      <td>.....</td>\n",
       "    </tr>\n",
       "    <tr>\n",
       "      <th>60664</th>\n",
       "      <td>Negative</td>\n",
       "      <td>with extremists</td>\n",
       "    </tr>\n",
       "  </tbody>\n",
       "</table>\n",
       "</div>"
      ],
      "text/plain": [
       "         Result                                             Tweets\n",
       "28740  Positive  @ PlayApex Guys... I just want to say that thi...\n",
       "37487   Neutral  Successfully streamed today!!. Thanks to @Ridi...\n",
       "43747  Negative                                              .....\n",
       "60664  Negative                                    with extremists"
      ]
     },
     "execution_count": 7,
     "metadata": {},
     "output_type": "execute_result"
    }
   ],
   "source": [
    "df.sample(4)"
   ]
  },
  {
   "cell_type": "code",
   "execution_count": 8,
   "id": "55a3a04c",
   "metadata": {},
   "outputs": [
    {
     "data": {
      "text/plain": [
       "Negative    22542\n",
       "Positive    20831\n",
       "Neutral     18318\n",
       "Name: Result, dtype: int64"
      ]
     },
     "execution_count": 8,
     "metadata": {},
     "output_type": "execute_result"
    }
   ],
   "source": [
    "# Dropping rows having irrelavent values\n",
    "\n",
    "df_irr = df.loc[df[\"Result\"]=='Irrelevant']\n",
    "irr_index = df_irr.index\n",
    "df = df.drop(labels=irr_index, axis=0)\n",
    "df[\"Result\"].value_counts()"
   ]
  },
  {
   "cell_type": "code",
   "execution_count": 9,
   "id": "dea2f4cf",
   "metadata": {},
   "outputs": [
    {
     "data": {
      "text/plain": [
       "Neutral     285\n",
       "Positive    277\n",
       "Negative    266\n",
       "Name: Result, dtype: int64"
      ]
     },
     "execution_count": 9,
     "metadata": {},
     "output_type": "execute_result"
    }
   ],
   "source": [
    "# Dropping rows having irrelavent values for testing dataset\n",
    "\n",
    "df_test_irr = df_test.loc[df_test[\"Result\"]=='Irrelevant']\n",
    "test_irr_index = df_test_irr.index\n",
    "df_test = df_test.drop(labels=test_irr_index, axis=0)\n",
    "df_test[\"Result\"].value_counts()"
   ]
  },
  {
   "cell_type": "code",
   "execution_count": 10,
   "id": "c20d266d",
   "metadata": {},
   "outputs": [],
   "source": [
    "from sklearn.preprocessing import LabelEncoder\n",
    "encoder = LabelEncoder()\n",
    "df['Result']= encoder.fit_transform(df['Result'])\n",
    "# For Testing Dataset\n",
    "df_test['Result']= encoder.fit_transform(df_test['Result'])\n",
    "# 1 = Neutral, 2= Positive, 0=Negative"
   ]
  },
  {
   "cell_type": "code",
   "execution_count": 11,
   "id": "b32a1f71",
   "metadata": {},
   "outputs": [
    {
     "data": {
      "text/html": [
       "<div>\n",
       "<style scoped>\n",
       "    .dataframe tbody tr th:only-of-type {\n",
       "        vertical-align: middle;\n",
       "    }\n",
       "\n",
       "    .dataframe tbody tr th {\n",
       "        vertical-align: top;\n",
       "    }\n",
       "\n",
       "    .dataframe thead th {\n",
       "        text-align: right;\n",
       "    }\n",
       "</style>\n",
       "<table border=\"1\" class=\"dataframe\">\n",
       "  <thead>\n",
       "    <tr style=\"text-align: right;\">\n",
       "      <th></th>\n",
       "      <th>Result</th>\n",
       "      <th>Tweets</th>\n",
       "    </tr>\n",
       "  </thead>\n",
       "  <tbody>\n",
       "    <tr>\n",
       "      <th>0</th>\n",
       "      <td>1</td>\n",
       "      <td>BBC News - Amazon boss Jeff Bezos rejects clai...</td>\n",
       "    </tr>\n",
       "    <tr>\n",
       "      <th>1</th>\n",
       "      <td>0</td>\n",
       "      <td>@Microsoft Why do I pay for WORD when it funct...</td>\n",
       "    </tr>\n",
       "    <tr>\n",
       "      <th>2</th>\n",
       "      <td>0</td>\n",
       "      <td>CSGO matchmaking is so full of closet hacking,...</td>\n",
       "    </tr>\n",
       "    <tr>\n",
       "      <th>3</th>\n",
       "      <td>1</td>\n",
       "      <td>Now the President is slapping Americans in the...</td>\n",
       "    </tr>\n",
       "    <tr>\n",
       "      <th>4</th>\n",
       "      <td>0</td>\n",
       "      <td>Hi @EAHelp I’ve had Madeleine McCann in my cel...</td>\n",
       "    </tr>\n",
       "    <tr>\n",
       "      <th>...</th>\n",
       "      <td>...</td>\n",
       "      <td>...</td>\n",
       "    </tr>\n",
       "    <tr>\n",
       "      <th>234</th>\n",
       "      <td>0</td>\n",
       "      <td>@AndroidDev I've just noticed an issue while u...</td>\n",
       "    </tr>\n",
       "    <tr>\n",
       "      <th>235</th>\n",
       "      <td>1</td>\n",
       "      <td>@GhostRecon so far playing the new update, the...</td>\n",
       "    </tr>\n",
       "    <tr>\n",
       "      <th>236</th>\n",
       "      <td>1</td>\n",
       "      <td>Johnson &amp; Johnson Medical Devices Companies is...</td>\n",
       "    </tr>\n",
       "    <tr>\n",
       "      <th>237</th>\n",
       "      <td>2</td>\n",
       "      <td>This skin for Revenant looks dope!! greasygame...</td>\n",
       "    </tr>\n",
       "    <tr>\n",
       "      <th>238</th>\n",
       "      <td>0</td>\n",
       "      <td>@EAMaddenNFL when I first pre ordered it said ...</td>\n",
       "    </tr>\n",
       "  </tbody>\n",
       "</table>\n",
       "<p>200 rows × 2 columns</p>\n",
       "</div>"
      ],
      "text/plain": [
       "     Result                                             Tweets\n",
       "0         1  BBC News - Amazon boss Jeff Bezos rejects clai...\n",
       "1         0  @Microsoft Why do I pay for WORD when it funct...\n",
       "2         0  CSGO matchmaking is so full of closet hacking,...\n",
       "3         1  Now the President is slapping Americans in the...\n",
       "4         0  Hi @EAHelp I’ve had Madeleine McCann in my cel...\n",
       "..      ...                                                ...\n",
       "234       0  @AndroidDev I've just noticed an issue while u...\n",
       "235       1  @GhostRecon so far playing the new update, the...\n",
       "236       1  Johnson & Johnson Medical Devices Companies is...\n",
       "237       2  This skin for Revenant looks dope!! greasygame...\n",
       "238       0  @EAMaddenNFL when I first pre ordered it said ...\n",
       "\n",
       "[200 rows x 2 columns]"
      ]
     },
     "execution_count": 11,
     "metadata": {},
     "output_type": "execute_result"
    }
   ],
   "source": [
    "df_test.head(200)"
   ]
  },
  {
   "cell_type": "code",
   "execution_count": 12,
   "id": "ae425313",
   "metadata": {},
   "outputs": [
    {
     "data": {
      "text/html": [
       "<div>\n",
       "<style scoped>\n",
       "    .dataframe tbody tr th:only-of-type {\n",
       "        vertical-align: middle;\n",
       "    }\n",
       "\n",
       "    .dataframe tbody tr th {\n",
       "        vertical-align: top;\n",
       "    }\n",
       "\n",
       "    .dataframe thead th {\n",
       "        text-align: right;\n",
       "    }\n",
       "</style>\n",
       "<table border=\"1\" class=\"dataframe\">\n",
       "  <thead>\n",
       "    <tr style=\"text-align: right;\">\n",
       "      <th></th>\n",
       "      <th>Result</th>\n",
       "      <th>Tweets</th>\n",
       "    </tr>\n",
       "  </thead>\n",
       "  <tbody>\n",
       "    <tr>\n",
       "      <th>0</th>\n",
       "      <td>2</td>\n",
       "      <td>I am coming to the borders and I will kill you...</td>\n",
       "    </tr>\n",
       "    <tr>\n",
       "      <th>1</th>\n",
       "      <td>2</td>\n",
       "      <td>im getting on borderlands and i will kill you ...</td>\n",
       "    </tr>\n",
       "    <tr>\n",
       "      <th>2</th>\n",
       "      <td>2</td>\n",
       "      <td>im coming on borderlands and i will murder you...</td>\n",
       "    </tr>\n",
       "    <tr>\n",
       "      <th>3</th>\n",
       "      <td>2</td>\n",
       "      <td>im getting on borderlands 2 and i will murder ...</td>\n",
       "    </tr>\n",
       "    <tr>\n",
       "      <th>4</th>\n",
       "      <td>2</td>\n",
       "      <td>im getting into borderlands and i can murder y...</td>\n",
       "    </tr>\n",
       "  </tbody>\n",
       "</table>\n",
       "</div>"
      ],
      "text/plain": [
       "   Result                                             Tweets\n",
       "0       2  I am coming to the borders and I will kill you...\n",
       "1       2  im getting on borderlands and i will kill you ...\n",
       "2       2  im coming on borderlands and i will murder you...\n",
       "3       2  im getting on borderlands 2 and i will murder ...\n",
       "4       2  im getting into borderlands and i can murder y..."
      ]
     },
     "execution_count": 12,
     "metadata": {},
     "output_type": "execute_result"
    }
   ],
   "source": [
    "df.head()"
   ]
  },
  {
   "cell_type": "code",
   "execution_count": 13,
   "id": "6038ada0",
   "metadata": {},
   "outputs": [
    {
     "data": {
      "image/png": "[encoded data removed]",
      "text/plain": [
       "<Figure size 640x480 with 1 Axes>"
      ]
     },
     "metadata": {},
     "output_type": "display_data"
    }
   ],
   "source": [
    "# visualizing the data\n",
    "import matplotlib.pyplot as plt\n",
    "import seaborn as sns\n",
    "sns.set_theme(style=\"whitegrid\")\n",
    "sns.countplot(x=df[\"Result\"])\n",
    "plt.suptitle(\"Training Dataset\")\n",
    "plt.show()"
   ]
  },
  {
   "cell_type": "code",
   "execution_count": 14,
   "id": "7db75b1a",
   "metadata": {},
   "outputs": [
    {
     "data": {
      "image/png": "[encoded data removed]",
      "text/plain": [
       "<Figure size 640x480 with 1 Axes>"
      ]
     },
     "metadata": {},
     "output_type": "display_data"
    }
   ],
   "source": [
    "plt.pie(df['Result'].value_counts(), labels = ['Negative', 'Positive', 'Neutral' ])\n",
    "plt.title(\"Training Dataset\")\n",
    "plt.show()"
   ]
  },
  {
   "cell_type": "markdown",
   "id": "6ece8e28",
   "metadata": {},
   "source": [
    "We have more neutral values!"
   ]
  },
  {
   "cell_type": "code",
   "execution_count": 15,
   "id": "8fcf4933",
   "metadata": {},
   "outputs": [
    {
     "name": "stderr",
     "output_type": "stream",
     "text": [
      "[nltk_data] Downloading package stopwords to\n",
      "[nltk_data]     C:\\Users\\PRIYANKA\\AppData\\Roaming\\nltk_data...\n",
      "[nltk_data]   Package stopwords is already up-to-date!\n"
     ]
    }
   ],
   "source": [
    "import nltk\n",
    "nltk.download(\"stopwords\")\n",
    "# nltk.download(\"PorterStemmer\")\n",
    "from nltk.corpus import stopwords\n",
    "from nltk.stem.porter import PorterStemmer\n",
    "stopwords.words('english')\n",
    "ps = PorterStemmer()\n",
    "import string"
   ]
  },
  {
   "cell_type": "code",
   "execution_count": 16,
   "id": "d90c664f",
   "metadata": {},
   "outputs": [],
   "source": [
    "import nltk\n",
    "from nltk.corpus import stopwords\n",
    "from nltk.stem import PorterStemmer\n",
    "import string\n",
    "\n",
    "def preprocessing(text):\n",
    "    text = text.lower()\n",
    "    text = nltk.word_tokenize(text)\n",
    "    y = []\n",
    "    ps = PorterStemmer()\n",
    "    for i in text:\n",
    "        if i not in stopwords.words('english') and i not in string.punctuation and i.isalnum():\n",
    "            y.append(ps.stem(i))\n",
    "    return \" \".join(y)\n"
   ]
  },
  {
   "cell_type": "code",
   "execution_count": 17,
   "id": "009912cc",
   "metadata": {},
   "outputs": [
    {
     "name": "stderr",
     "output_type": "stream",
     "text": [
      "[nltk_data] Downloading package punkt to\n",
      "[nltk_data]     C:\\Users\\PRIYANKA\\AppData\\Roaming\\nltk_data...\n",
      "[nltk_data]   Package punkt is already up-to-date!\n"
     ]
    }
   ],
   "source": [
    "# Apply the method to our dataset.\n",
    "import nltk\n",
    "nltk.download('punkt')\n",
    "df['Preprocessed'] = df['Tweets'].apply(preprocessing)\n",
    "df_test['Preprocessed'] = df_test['Tweets'].apply(preprocessing)"
   ]
  },
  {
   "cell_type": "code",
   "execution_count": 18,
   "id": "6557500f",
   "metadata": {},
   "outputs": [],
   "source": [
    "# Save the training dataframe to a CSV file\n",
    "df.to_csv(\"training_dataset_preprocessed.csv\", index=False)\n",
    "# Save the testing dataframe to a CSV file\n",
    "df_test.to_csv(\"testing_dataset_preprocessed.csv\", index=False)"
   ]
  },
  {
   "cell_type": "code",
   "execution_count": 19,
   "id": "5f1e3cd3",
   "metadata": {},
   "outputs": [],
   "source": [
    "# Load the new preprocessed dataset\n",
    "df_test_preprocessed = pd.read_csv('testing_dataset_preprocessed.csv').astype(str)\n",
    "df_train_preprocessed = pd.read_csv('training_dataset_preprocessed.csv').astype(str)"
   ]
  },
  {
   "cell_type": "code",
   "execution_count": 20,
   "id": "18b80d52",
   "metadata": {},
   "outputs": [],
   "source": [
    "from sklearn.feature_extraction.text import CountVectorizer, TfidfVectorizer\n",
    "cv = CountVectorizer()\n",
    "tfidf = TfidfVectorizer()"
   ]
  },
  {
   "cell_type": "code",
   "execution_count": 21,
   "id": "b9db5daf",
   "metadata": {},
   "outputs": [
    {
     "data": {
      "text/plain": [
       "(61691, 19913)"
      ]
     },
     "execution_count": 21,
     "metadata": {},
     "output_type": "execute_result"
    }
   ],
   "source": [
    "X_Train = cv.fit_transform(df_train_preprocessed['Preprocessed']).toarray()\n",
    "X_Train.shape"
   ]
  },
  {
   "cell_type": "code",
   "execution_count": 22,
   "id": "1cd33601",
   "metadata": {},
   "outputs": [
    {
     "data": {
      "text/plain": [
       "(61691,)"
      ]
     },
     "execution_count": 22,
     "metadata": {},
     "output_type": "execute_result"
    }
   ],
   "source": [
    "Y_Train = df_train_preprocessed['Result'].values\n",
    "Y_Train.shape"
   ]
  },
  {
   "cell_type": "code",
   "execution_count": 23,
   "id": "62555ae5",
   "metadata": {},
   "outputs": [
    {
     "data": {
      "text/plain": [
       "(828, 19913)"
      ]
     },
     "execution_count": 23,
     "metadata": {},
     "output_type": "execute_result"
    }
   ],
   "source": [
    "X_Test = cv.transform(df_test_preprocessed['Preprocessed']).toarray()\n",
    "X_Test.shape"
   ]
  },
  {
   "cell_type": "code",
   "execution_count": 24,
   "id": "9a6efbca",
   "metadata": {},
   "outputs": [
    {
     "data": {
      "text/plain": [
       "(828,)"
      ]
     },
     "execution_count": 24,
     "metadata": {},
     "output_type": "execute_result"
    }
   ],
   "source": [
    "Y_Test = df_test_preprocessed['Result'].values\n",
    "Y_Test.shape"
   ]
  },
  {
   "cell_type": "code",
   "execution_count": 25,
   "id": "4ae1ca3d",
   "metadata": {},
   "outputs": [],
   "source": [
    "Model = [\"Logistic\", \"Gaussian\", \"Multinomial\", \"Bernoullis\"]\n",
    "Accuracy = []\n",
    "Precision = []"
   ]
  },
  {
   "cell_type": "code",
   "execution_count": 26,
   "id": "7835de69",
   "metadata": {},
   "outputs": [
    {
     "name": "stdout",
     "output_type": "stream",
     "text": [
      "Model Fitting Starting..\n"
     ]
    },
    {
     "name": "stderr",
     "output_type": "stream",
     "text": [
      "C:\\Users\\PRIYANKA\\anaconda3\\lib\\site-packages\\sklearn\\linear_model\\_logistic.py:460: ConvergenceWarning: lbfgs failed to converge (status=1):\n",
      "STOP: TOTAL NO. of ITERATIONS REACHED LIMIT.\n",
      "\n",
      "Increase the number of iterations (max_iter) or scale the data as shown in:\n",
      "    https://scikit-learn.org/stable/modules/preprocessing.html\n",
      "Please also refer to the documentation for alternative solver options:\n",
      "    https://scikit-learn.org/stable/modules/linear_model.html#logistic-regression\n",
      "  n_iter_i = _check_optimize_result(\n"
     ]
    },
    {
     "name": "stdout",
     "output_type": "stream",
     "text": [
      "Fitting Done. Now predicting...\n",
      "Completed :)\n"
     ]
    }
   ],
   "source": [
    "from sklearn.linear_model import LogisticRegression\n",
    "\n",
    "print(\"Model Fitting Starting..\")\n",
    "# Create an instance of the LogisticRegression model\n",
    "logistic_regression = LogisticRegression()\n",
    "\n",
    "# Fit the logistic regression model to your training data\n",
    "logistic_regression.fit(X_Train, Y_Train)\n",
    "print(\"Fitting Done. Now predicting...\")\n",
    "# Predict the sentiment on your test data\n",
    "y_pred = logistic_regression.predict(X_Test)\n",
    "print(\"Completed :)\")"
   ]
  },
  {
   "cell_type": "code",
   "execution_count": 27,
   "id": "49cff6a8",
   "metadata": {},
   "outputs": [
    {
     "name": "stdout",
     "output_type": "stream",
     "text": [
      "Calculations Starting..\n",
      "Accuracy Calculated!\n",
      "Precision Calculated!\n",
      "Recall Calculated!\n",
      "Finally, F1 Calculated!\n",
      "Accuracy: 0.928743961352657\n",
      "Precision: 0.9286478789940057\n",
      "Recall: 0.9290174895723062\n",
      "F1 Score: 0.928663418471572\n"
     ]
    }
   ],
   "source": [
    "from sklearn.metrics import accuracy_score, precision_score, recall_score, f1_score\n",
    "\n",
    "print(\"Calculations Starting..\")\n",
    "# Calculate accuracy\n",
    "accuracy = accuracy_score(Y_Test, y_pred)\n",
    "print(\"Accuracy Calculated!\")\n",
    "Accuracy.append(accuracy)\n",
    "# Calculate precision\n",
    "precision = precision_score(Y_Test, y_pred, average='macro')\n",
    "print(\"Precision Calculated!\")\n",
    "Precision.append(precision)\n",
    "# Calculate recall\n",
    "recall = recall_score(Y_Test, y_pred, average='macro')\n",
    "print(\"Recall Calculated!\")\n",
    "# Calculate F1 score\n",
    "f1 = f1_score(Y_Test, y_pred, average='macro')\n",
    "print(\"Finally, F1 Calculated!\")\n",
    "\n",
    "# Print results\n",
    "print(\"Accuracy:\", accuracy)\n",
    "print(\"Precision:\", precision)\n",
    "print(\"Recall:\", recall)\n",
    "print(\"F1 Score:\", f1)"
   ]
  },
  {
   "cell_type": "code",
   "execution_count": 28,
   "id": "dd8086e2",
   "metadata": {},
   "outputs": [],
   "source": [
    "from sklearn.naive_bayes import GaussianNB, MultinomialNB, BernoulliNB\n",
    "from sklearn.metrics import accuracy_score,precision_score  \n",
    "gnb = GaussianNB()\n",
    "mnb = MultinomialNB()\n",
    "bnb = BernoulliNB()"
   ]
  },
  {
   "cell_type": "code",
   "execution_count": 29,
   "id": "8f1e65da",
   "metadata": {},
   "outputs": [
    {
     "name": "stdout",
     "output_type": "stream",
     "text": [
      "Fitting into Gaussian\n",
      "Fitting Done. Now predicting...\n",
      "0.6859903381642513\n",
      "0.6859903381642513\n"
     ]
    }
   ],
   "source": [
    "# Gaussian\n",
    "\n",
    "print(\"Fitting into Gaussian\")\n",
    "gnb.fit(X_Train, Y_Train)\n",
    "print(\"Fitting Done. Now predicting...\")\n",
    "pred1 = gnb.predict(X_Test)\n",
    "print(accuracy_score(Y_Test, pred1))\n",
    "print(precision_score(Y_Test, pred1, average='micro'))\n",
    "\n",
    "Accuracy.append(accuracy_score(Y_Test, pred1))\n",
    "Precision.append(precision_score(Y_Test, pred1, average='micro'))"
   ]
  },
  {
   "cell_type": "code",
   "execution_count": 30,
   "id": "ea602d45",
   "metadata": {},
   "outputs": [
    {
     "name": "stdout",
     "output_type": "stream",
     "text": [
      "Fitting into Multinomial\n",
      "Fitting Done. Now predicting...\n",
      "0.7995169082125604\n",
      "0.7995169082125604\n"
     ]
    }
   ],
   "source": [
    "# Multinomial\n",
    "\n",
    "print(\"Fitting into Multinomial\")\n",
    "mnb.fit(X_Train, Y_Train)\n",
    "print(\"Fitting Done. Now predicting...\")\n",
    "pred2 = mnb.predict(X_Test)\n",
    "print(accuracy_score(Y_Test, pred2))\n",
    "print(precision_score(Y_Test, pred2, average='micro'))\n",
    "Accuracy.append(accuracy_score(Y_Test, pred2))\n",
    "Precision.append(precision_score(Y_Test, pred2,average='micro'))"
   ]
  },
  {
   "cell_type": "code",
   "execution_count": 31,
   "id": "88759d48",
   "metadata": {},
   "outputs": [
    {
     "name": "stdout",
     "output_type": "stream",
     "text": [
      "Fitting into Binomial\n",
      "Fitting Done. Now predicting...\n",
      "0.7958937198067633\n",
      "0.7958937198067633\n"
     ]
    }
   ],
   "source": [
    "# Binomial\n",
    "\n",
    "print(\"Fitting into Binomial\")\n",
    "bnb.fit(X_Train, Y_Train)\n",
    "print(\"Fitting Done. Now predicting...\")\n",
    "pred3 = bnb.predict(X_Test)\n",
    "print(accuracy_score(Y_Test, pred3))\n",
    "print(precision_score(Y_Test, pred3, average='micro'))\n",
    "Accuracy.append(accuracy_score(Y_Test, pred3))\n",
    "Precision.append(precision_score(Y_Test, pred3, average='micro'))"
   ]
  },
  {
   "cell_type": "code",
   "execution_count": 32,
   "id": "6fba0e5f",
   "metadata": {},
   "outputs": [
    {
     "name": "stdout",
     "output_type": "stream",
     "text": [
      "[0.928743961352657, 0.6859903381642513, 0.7995169082125604, 0.7958937198067633]\n",
      "[0.9286478789940057, 0.6859903381642513, 0.7995169082125604, 0.7958937198067633]\n"
     ]
    }
   ],
   "source": [
    "print(Accuracy)\n",
    "print(Precision)"
   ]
  },
  {
   "cell_type": "code",
   "execution_count": null,
   "id": "ee650128",
   "metadata": {},
   "outputs": [],
   "source": []
  }
 ],
 "metadata": {
  "kernelspec": {
   "display_name": "Python 3 (ipykernel)",
   "language": "python",
   "name": "python3"
  },
  "language_info": {
   "codemirror_mode": {
    "name": "ipython",
    "version": 3
   },
   "file_extension": ".py",
   "mimetype": "text/x-python",
   "name": "python",
   "nbconvert_exporter": "python",
   "pygments_lexer": "ipython3",
   "version": "3.10.9"
  }
 },
 "nbformat": 4,
 "nbformat_minor": 5
}
